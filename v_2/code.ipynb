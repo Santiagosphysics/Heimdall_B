{
 "cells": [
  {
   "cell_type": "code",
   "execution_count": 47,
   "metadata": {},
   "outputs": [],
   "source": [
    "import yfinance as yf \n",
    "import matplotlib.pyplot as plt \n",
    "import numpy as np \n",
    "import pandas as pd \n",
    "import os\n",
    "\n",
    "\n",
    "from sklearn.preprocessing import MinMaxScaler\n",
    "from sklearn.model_selection import train_test_split\n",
    "from sklearn.metrics import mean_absolute_error, r2_score, mean_squared_error\n",
    "\n",
    "from tensorflow import keras\n",
    "Sequential = keras.models.Sequential\n",
    "LSTM = keras.layers.LSTM\n",
    "Dense = keras.layers.Dense\n",
    "Dropout = keras.layers.Dropout\n",
    "EarlyStopping = keras.callbacks.EarlyStopping\n",
    "callbacks = keras.callbacks\n",
    "\n"
   ]
  },
  {
   "cell_type": "code",
   "execution_count": 61,
   "metadata": {},
   "outputs": [],
   "source": [
    "scaler = MinMaxScaler(feature_range=(0,1))\n",
    "def crypto(data, interval = \"1h\"):\n",
    "    data_complete = yf.download(data, interval = interval)\n",
    "    data = scaler.fit_transform(data_complete['Adj Close'])\n",
    "    return data, data_complete\n",
    "\n",
    "def create_sequence(data, sequence=60):\n",
    "    X, y = [], []\n",
    "    for i in range(len(data)- sequence):\n",
    "        X.append(data[i:i + sequence])\n",
    "        y.append(data[i + sequence])\n",
    "    return np.array(X), np.array(y)\n",
    "\n",
    "def trainning(data):\n",
    "    X, y = create_sequence(data=data)\n",
    "    X_train, X_test, y_train, y_test = train_test_split(X, y, train_size=0.8, random_state=42 )\n",
    "    \n",
    "    X_train = X_train.reshape(X_train.shape[0], X_train.shape[1], 1)\n",
    "    X_test = X_test.reshape(X_test.shape[0], X_test.shape[1], 1 )\n",
    "\n",
    "    model = Sequential([\n",
    "        LSTM(50, return_sequences=True, input_shape=(X_train.shape[1], 1)),\n",
    "        Dropout(0.2),\n",
    "        LSTM(50, return_sequences=False),\n",
    "        Dropout(0.2),\n",
    "        Dense(1)\n",
    "    ])\n",
    "\n",
    "    model.compile(optimizer='adam', loss='mean_squared_error')\n",
    "    early_stopping = EarlyStopping( patience=2)\n",
    "\n",
    "    model.fit(X_train, \n",
    "            y_train, \n",
    "            epochs = 1, \n",
    "            batch_size = 32,\n",
    "            validation_data=(X_test, y_test),\n",
    "            verbose=1, \n",
    "            callbacks = [early_stopping])\n",
    "\n",
    "    y_pred = model.predict(X_test)\n",
    "\n",
    "    y_test_rescaled = scaler.inverse_transform(y_test.reshape(-1,1))\n",
    "    y_pred_rescaled = scaler.inverse_transform(y_pred)\n",
    "\n",
    "    return model, y_test_rescaled, y_pred_rescaled, X_test, y_test\n",
    "\n",
    "\n",
    "def metrics_model(y_test_rescaled, y_pred_rescaled):\n",
    "    rmse = np.sqrt(mean_squared_error(y_test_rescaled, y_pred_rescaled))\n",
    "    mae = mean_absolute_error(y_test_rescaled, y_pred_rescaled)\n",
    "    r2 = r2_score(y_test_rescaled, y_pred_rescaled)\n",
    "    return [rmse, mae, r2]\n",
    "\n",
    "def historic_graphic(data_complete,y_test_rescaled, y_pred_rescaled):\n",
    "    prediction_dates = data_complete[-len(y_test_rescaled):]\n",
    "    plt.figure(figsize=(10,6))\n",
    "    plt.plot(prediction_dates, y_test_rescaled, label='Actual', c='r')\n",
    "    plt.plot(prediction_dates, y_pred_rescaled, label='Prediccetd', c='b')\n",
    "    plt.xlabel('Date')\n",
    "    plt.ylabel('Price USD')\n",
    "    plt.title('Comparative betwen time and price')\n",
    "    plt.legend()\n",
    "    plt.show()\n",
    "\n",
    "\n",
    "    \n",
    "\n",
    "def predict_next_week(model, data, num_days, sequence=60):\n",
    "    last_sequence = data[-sequence:].reshape(1, sequence, 1)\n",
    "    predicted_prices = []\n",
    "    for _ in range(num_days):\n",
    "        predicted_price = model.predict(last_sequence)\n",
    "        predicted_prices.append(predicted_price)\n",
    "        last_sequence = np.append(last_sequence[:, 1:, :], predicted_price.reshape(1,1,1), axis=1)\n",
    "    predicted_prices_rescaled = scaler.inverse_transform(np.array(predicted_prices).reshape(-1,1))\n",
    "\n",
    "    return predicted_prices_rescaled"
   ]
  },
  {
   "cell_type": "code",
   "execution_count": null,
   "metadata": {},
   "outputs": [
    {
     "name": "stderr",
     "output_type": "stream",
     "text": [
      "[*********************100%***********************]  1 of 1 completed\n",
      "/home/lic-jimenez/anaconda3/envs/mi_entorno/lib/python3.10/site-packages/keras/src/layers/rnn/rnn.py:204: UserWarning: Do not pass an `input_shape`/`input_dim` argument to a layer. When using Sequential models, prefer using an `Input(shape)` object as the first layer in the model instead.\n",
      "  super().__init__(**kwargs)\n"
     ]
    },
    {
     "name": "stdout",
     "output_type": "stream",
     "text": [
      "\u001b[1m64/64\u001b[0m \u001b[32m━━━━━━━━━━━━━━━━━━━━\u001b[0m\u001b[37m\u001b[0m \u001b[1m4s\u001b[0m 30ms/step - loss: 0.0076 - val_loss: 0.0014\n",
      "\u001b[1m16/16\u001b[0m \u001b[32m━━━━━━━━━━━━━━━━━━━━\u001b[0m\u001b[37m\u001b[0m \u001b[1m0s\u001b[0m 20ms/step\n"
     ]
    },
    {
     "name": "stderr",
     "output_type": "stream",
     "text": [
      "[*********************100%***********************]  1 of 1 completed\n",
      "/home/lic-jimenez/anaconda3/envs/mi_entorno/lib/python3.10/site-packages/keras/src/layers/rnn/rnn.py:204: UserWarning: Do not pass an `input_shape`/`input_dim` argument to a layer. When using Sequential models, prefer using an `Input(shape)` object as the first layer in the model instead.\n",
      "  super().__init__(**kwargs)\n"
     ]
    },
    {
     "name": "stdout",
     "output_type": "stream",
     "text": [
      "\u001b[1m92/92\u001b[0m \u001b[32m━━━━━━━━━━━━━━━━━━━━\u001b[0m\u001b[37m\u001b[0m \u001b[1m4s\u001b[0m 26ms/step - loss: 0.0132 - val_loss: 5.1052e-04\n",
      "\u001b[1m24/24\u001b[0m \u001b[32m━━━━━━━━━━━━━━━━━━━━\u001b[0m\u001b[37m\u001b[0m \u001b[1m1s\u001b[0m 16ms/step\n"
     ]
    },
    {
     "name": "stderr",
     "output_type": "stream",
     "text": [
      "[*********************100%***********************]  1 of 1 completed\n",
      "/home/lic-jimenez/anaconda3/envs/mi_entorno/lib/python3.10/site-packages/keras/src/layers/rnn/rnn.py:204: UserWarning: Do not pass an `input_shape`/`input_dim` argument to a layer. When using Sequential models, prefer using an `Input(shape)` object as the first layer in the model instead.\n",
      "  super().__init__(**kwargs)\n"
     ]
    },
    {
     "name": "stdout",
     "output_type": "stream",
     "text": [
      "\u001b[1m64/64\u001b[0m \u001b[32m━━━━━━━━━━━━━━━━━━━━\u001b[0m\u001b[37m\u001b[0m \u001b[1m4s\u001b[0m 32ms/step - loss: 0.0473 - val_loss: 0.0015\n",
      "\u001b[1m16/16\u001b[0m \u001b[32m━━━━━━━━━━━━━━━━━━━━\u001b[0m\u001b[37m\u001b[0m \u001b[1m1s\u001b[0m 21ms/step\n"
     ]
    },
    {
     "name": "stderr",
     "output_type": "stream",
     "text": [
      "[*********************100%***********************]  1 of 1 completed\n",
      "/home/lic-jimenez/anaconda3/envs/mi_entorno/lib/python3.10/site-packages/keras/src/layers/rnn/rnn.py:204: UserWarning: Do not pass an `input_shape`/`input_dim` argument to a layer. When using Sequential models, prefer using an `Input(shape)` object as the first layer in the model instead.\n",
      "  super().__init__(**kwargs)\n"
     ]
    },
    {
     "name": "stdout",
     "output_type": "stream",
     "text": [
      "\u001b[1m63/63\u001b[0m \u001b[32m━━━━━━━━━━━━━━━━━━━━\u001b[0m\u001b[37m\u001b[0m \u001b[1m3s\u001b[0m 28ms/step - loss: 3.3542e-04 - val_loss: 5.7353e-05\n",
      "\u001b[1m16/16\u001b[0m \u001b[32m━━━━━━━━━━━━━━━━━━━━\u001b[0m\u001b[37m\u001b[0m \u001b[1m1s\u001b[0m 22ms/step\n"
     ]
    }
   ],
   "source": [
    "cryptos = ['DOGE-USD', 'BTC-USD', 'ETH-USD', 'TSL-USD']\n",
    "for i in range(len(cryptos)):\n",
    "    os.mkdir(path=f'./Graphcis{cryptos[i]}')\n",
    "\n",
    "names_complete = [f'{i}_complete' for i in cryptos]\n",
    "data_1 = [f'{i}_scaler' for i in cryptos]\n",
    "\n",
    "df_complete = {}\n",
    "df_data = {}\n",
    "models = {}\n",
    "metrics = {}\n",
    "\n",
    "\n",
    "\n",
    "for i in range(len(cryptos)):\n",
    "    df_data[cryptos[i]], df_complete[cryptos[i]] = crypto(data=cryptos[i], interval=\"1d\")\n",
    "    models[f'model_{cryptos[i]}'], y_test_rescaled, y_pred_rescaled, X_test, y_test = trainning(df_data[cryptos[i]])\n",
    "    metrics[f'metrics_{cryptos[i]}'] = metrics_model(y_test_rescaled, y_pred_rescaled)\n"
   ]
  },
  {
   "cell_type": "code",
   "execution_count": 60,
   "metadata": {},
   "outputs": [
    {
     "name": "stdout",
     "output_type": "stream",
     "text": [
      "DOGE-USD\n",
      "BTC-USD\n",
      "ETH-USD\n",
      "TSL-USD\n"
     ]
    }
   ],
   "source": [
    "for i in df_data:\n",
    "    print(i)"
   ]
  }
 ],
 "metadata": {
  "kernelspec": {
   "display_name": "mi_entorno",
   "language": "python",
   "name": "python3"
  },
  "language_info": {
   "codemirror_mode": {
    "name": "ipython",
    "version": 3
   },
   "file_extension": ".py",
   "mimetype": "text/x-python",
   "name": "python",
   "nbconvert_exporter": "python",
   "pygments_lexer": "ipython3",
   "version": "3.10.16"
  }
 },
 "nbformat": 4,
 "nbformat_minor": 2
}
